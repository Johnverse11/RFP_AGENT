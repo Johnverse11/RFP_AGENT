{
  "nbformat": 4,
  "nbformat_minor": 0,
  "metadata": {
    "colab": {
      "provenance": [],
      "authorship_tag": "ABX9TyOlrpNN1+rpG4Bcpl7lakLV",
      "include_colab_link": true
    },
    "kernelspec": {
      "name": "python3",
      "display_name": "Python 3"
    },
    "language_info": {
      "name": "python"
    },
    "widgets": {
      "application/vnd.jupyter.widget-state+json": {
        "9ab2f5ce859e43dcb1eaa0659baac2ff": {
          "model_module": "@jupyter-widgets/controls",
          "model_name": "HBoxModel",
          "model_module_version": "1.5.0",
          "state": {
            "_dom_classes": [],
            "_model_module": "@jupyter-widgets/controls",
            "_model_module_version": "1.5.0",
            "_model_name": "HBoxModel",
            "_view_count": null,
            "_view_module": "@jupyter-widgets/controls",
            "_view_module_version": "1.5.0",
            "_view_name": "HBoxView",
            "box_style": "",
            "children": [
              "IPY_MODEL_d3a373a006ca435095cbcda53fbada2f",
              "IPY_MODEL_56498188eb25472aa9b95156950b35b9",
              "IPY_MODEL_a5aa3074f12f4a47be90236d8b6e9e87"
            ],
            "layout": "IPY_MODEL_b52eeb5c0af84cf58dc1d1fae1a519a4"
          }
        },
        "d3a373a006ca435095cbcda53fbada2f": {
          "model_module": "@jupyter-widgets/controls",
          "model_name": "HTMLModel",
          "model_module_version": "1.5.0",
          "state": {
            "_dom_classes": [],
            "_model_module": "@jupyter-widgets/controls",
            "_model_module_version": "1.5.0",
            "_model_name": "HTMLModel",
            "_view_count": null,
            "_view_module": "@jupyter-widgets/controls",
            "_view_module_version": "1.5.0",
            "_view_name": "HTMLView",
            "description": "",
            "description_tooltip": null,
            "layout": "IPY_MODEL_d09d85c74a6b446aa834d4562d94604e",
            "placeholder": "​",
            "style": "IPY_MODEL_d15a2defbd904bc799767fa87cd2ff63",
            "value": "Loading checkpoint shards:   0%"
          }
        },
        "56498188eb25472aa9b95156950b35b9": {
          "model_module": "@jupyter-widgets/controls",
          "model_name": "FloatProgressModel",
          "model_module_version": "1.5.0",
          "state": {
            "_dom_classes": [],
            "_model_module": "@jupyter-widgets/controls",
            "_model_module_version": "1.5.0",
            "_model_name": "FloatProgressModel",
            "_view_count": null,
            "_view_module": "@jupyter-widgets/controls",
            "_view_module_version": "1.5.0",
            "_view_name": "ProgressView",
            "bar_style": "",
            "description": "",
            "description_tooltip": null,
            "layout": "IPY_MODEL_1a6b57208d5445f986cf0934aa9a3958",
            "max": 2,
            "min": 0,
            "orientation": "horizontal",
            "style": "IPY_MODEL_c0da43cc06d04f7fbdf7b32858a167c3",
            "value": 0
          }
        },
        "a5aa3074f12f4a47be90236d8b6e9e87": {
          "model_module": "@jupyter-widgets/controls",
          "model_name": "HTMLModel",
          "model_module_version": "1.5.0",
          "state": {
            "_dom_classes": [],
            "_model_module": "@jupyter-widgets/controls",
            "_model_module_version": "1.5.0",
            "_model_name": "HTMLModel",
            "_view_count": null,
            "_view_module": "@jupyter-widgets/controls",
            "_view_module_version": "1.5.0",
            "_view_name": "HTMLView",
            "description": "",
            "description_tooltip": null,
            "layout": "IPY_MODEL_d8ebbd3de7b240c69543c2d3371b43ef",
            "placeholder": "​",
            "style": "IPY_MODEL_2cf74310d8514fbc8147eff17fea5739",
            "value": " 0/2 [00:00&lt;?, ?it/s]"
          }
        },
        "b52eeb5c0af84cf58dc1d1fae1a519a4": {
          "model_module": "@jupyter-widgets/base",
          "model_name": "LayoutModel",
          "model_module_version": "1.2.0",
          "state": {
            "_model_module": "@jupyter-widgets/base",
            "_model_module_version": "1.2.0",
            "_model_name": "LayoutModel",
            "_view_count": null,
            "_view_module": "@jupyter-widgets/base",
            "_view_module_version": "1.2.0",
            "_view_name": "LayoutView",
            "align_content": null,
            "align_items": null,
            "align_self": null,
            "border": null,
            "bottom": null,
            "display": null,
            "flex": null,
            "flex_flow": null,
            "grid_area": null,
            "grid_auto_columns": null,
            "grid_auto_flow": null,
            "grid_auto_rows": null,
            "grid_column": null,
            "grid_gap": null,
            "grid_row": null,
            "grid_template_areas": null,
            "grid_template_columns": null,
            "grid_template_rows": null,
            "height": null,
            "justify_content": null,
            "justify_items": null,
            "left": null,
            "margin": null,
            "max_height": null,
            "max_width": null,
            "min_height": null,
            "min_width": null,
            "object_fit": null,
            "object_position": null,
            "order": null,
            "overflow": null,
            "overflow_x": null,
            "overflow_y": null,
            "padding": null,
            "right": null,
            "top": null,
            "visibility": null,
            "width": null
          }
        },
        "d09d85c74a6b446aa834d4562d94604e": {
          "model_module": "@jupyter-widgets/base",
          "model_name": "LayoutModel",
          "model_module_version": "1.2.0",
          "state": {
            "_model_module": "@jupyter-widgets/base",
            "_model_module_version": "1.2.0",
            "_model_name": "LayoutModel",
            "_view_count": null,
            "_view_module": "@jupyter-widgets/base",
            "_view_module_version": "1.2.0",
            "_view_name": "LayoutView",
            "align_content": null,
            "align_items": null,
            "align_self": null,
            "border": null,
            "bottom": null,
            "display": null,
            "flex": null,
            "flex_flow": null,
            "grid_area": null,
            "grid_auto_columns": null,
            "grid_auto_flow": null,
            "grid_auto_rows": null,
            "grid_column": null,
            "grid_gap": null,
            "grid_row": null,
            "grid_template_areas": null,
            "grid_template_columns": null,
            "grid_template_rows": null,
            "height": null,
            "justify_content": null,
            "justify_items": null,
            "left": null,
            "margin": null,
            "max_height": null,
            "max_width": null,
            "min_height": null,
            "min_width": null,
            "object_fit": null,
            "object_position": null,
            "order": null,
            "overflow": null,
            "overflow_x": null,
            "overflow_y": null,
            "padding": null,
            "right": null,
            "top": null,
            "visibility": null,
            "width": null
          }
        },
        "d15a2defbd904bc799767fa87cd2ff63": {
          "model_module": "@jupyter-widgets/controls",
          "model_name": "DescriptionStyleModel",
          "model_module_version": "1.5.0",
          "state": {
            "_model_module": "@jupyter-widgets/controls",
            "_model_module_version": "1.5.0",
            "_model_name": "DescriptionStyleModel",
            "_view_count": null,
            "_view_module": "@jupyter-widgets/base",
            "_view_module_version": "1.2.0",
            "_view_name": "StyleView",
            "description_width": ""
          }
        },
        "1a6b57208d5445f986cf0934aa9a3958": {
          "model_module": "@jupyter-widgets/base",
          "model_name": "LayoutModel",
          "model_module_version": "1.2.0",
          "state": {
            "_model_module": "@jupyter-widgets/base",
            "_model_module_version": "1.2.0",
            "_model_name": "LayoutModel",
            "_view_count": null,
            "_view_module": "@jupyter-widgets/base",
            "_view_module_version": "1.2.0",
            "_view_name": "LayoutView",
            "align_content": null,
            "align_items": null,
            "align_self": null,
            "border": null,
            "bottom": null,
            "display": null,
            "flex": null,
            "flex_flow": null,
            "grid_area": null,
            "grid_auto_columns": null,
            "grid_auto_flow": null,
            "grid_auto_rows": null,
            "grid_column": null,
            "grid_gap": null,
            "grid_row": null,
            "grid_template_areas": null,
            "grid_template_columns": null,
            "grid_template_rows": null,
            "height": null,
            "justify_content": null,
            "justify_items": null,
            "left": null,
            "margin": null,
            "max_height": null,
            "max_width": null,
            "min_height": null,
            "min_width": null,
            "object_fit": null,
            "object_position": null,
            "order": null,
            "overflow": null,
            "overflow_x": null,
            "overflow_y": null,
            "padding": null,
            "right": null,
            "top": null,
            "visibility": null,
            "width": null
          }
        },
        "c0da43cc06d04f7fbdf7b32858a167c3": {
          "model_module": "@jupyter-widgets/controls",
          "model_name": "ProgressStyleModel",
          "model_module_version": "1.5.0",
          "state": {
            "_model_module": "@jupyter-widgets/controls",
            "_model_module_version": "1.5.0",
            "_model_name": "ProgressStyleModel",
            "_view_count": null,
            "_view_module": "@jupyter-widgets/base",
            "_view_module_version": "1.2.0",
            "_view_name": "StyleView",
            "bar_color": null,
            "description_width": ""
          }
        },
        "d8ebbd3de7b240c69543c2d3371b43ef": {
          "model_module": "@jupyter-widgets/base",
          "model_name": "LayoutModel",
          "model_module_version": "1.2.0",
          "state": {
            "_model_module": "@jupyter-widgets/base",
            "_model_module_version": "1.2.0",
            "_model_name": "LayoutModel",
            "_view_count": null,
            "_view_module": "@jupyter-widgets/base",
            "_view_module_version": "1.2.0",
            "_view_name": "LayoutView",
            "align_content": null,
            "align_items": null,
            "align_self": null,
            "border": null,
            "bottom": null,
            "display": null,
            "flex": null,
            "flex_flow": null,
            "grid_area": null,
            "grid_auto_columns": null,
            "grid_auto_flow": null,
            "grid_auto_rows": null,
            "grid_column": null,
            "grid_gap": null,
            "grid_row": null,
            "grid_template_areas": null,
            "grid_template_columns": null,
            "grid_template_rows": null,
            "height": null,
            "justify_content": null,
            "justify_items": null,
            "left": null,
            "margin": null,
            "max_height": null,
            "max_width": null,
            "min_height": null,
            "min_width": null,
            "object_fit": null,
            "object_position": null,
            "order": null,
            "overflow": null,
            "overflow_x": null,
            "overflow_y": null,
            "padding": null,
            "right": null,
            "top": null,
            "visibility": null,
            "width": null
          }
        },
        "2cf74310d8514fbc8147eff17fea5739": {
          "model_module": "@jupyter-widgets/controls",
          "model_name": "DescriptionStyleModel",
          "model_module_version": "1.5.0",
          "state": {
            "_model_module": "@jupyter-widgets/controls",
            "_model_module_version": "1.5.0",
            "_model_name": "DescriptionStyleModel",
            "_view_count": null,
            "_view_module": "@jupyter-widgets/base",
            "_view_module_version": "1.2.0",
            "_view_name": "StyleView",
            "description_width": ""
          }
        }
      }
    }
  },
  "cells": [
    {
      "cell_type": "markdown",
      "metadata": {
        "id": "view-in-github",
        "colab_type": "text"
      },
      "source": [
        "<a href=\"https://colab.research.google.com/github/Johnverse11/RFP_AGENT/blob/main/Agent_rfp.ipynb\" target=\"_parent\"><img src=\"https://colab.research.google.com/assets/colab-badge.svg\" alt=\"Open In Colab\"/></a>"
      ]
    },
    {
      "cell_type": "code",
      "source": [
        "# 🔧 Clean environment\n",
        "!pip uninstall -y langchain transformers sentence-transformers -q\n",
        "\n",
        "# ✅ Install core components\n",
        "!pip install -q \\\n",
        "  langchain==0.1.16 \\\n",
        "  langchain-huggingface==0.0.3 \\\n",
        "  transformers \\\n",
        "  sentence-transformers==2.6.1 \\\n",
        "  chromadb \\\n",
        "  unstructured \\\n",
        "  pdfminer.six \\\n",
        "  pymupdf \\\n",
        "  tqdm"
      ],
      "metadata": {
        "id": "njlCX1eYZCOs"
      },
      "execution_count": 1,
      "outputs": []
    },
    {
      "cell_type": "code",
      "source": [
        "from langchain_community.document_loaders import TextLoader\n",
        "from langchain.text_splitter import RecursiveCharacterTextSplitter\n",
        "from langchain.vectorstores import Chroma\n",
        "from langchain_huggingface import HuggingFaceEmbeddings\n",
        "import os\n",
        "\n",
        "# Setup folder & move file\n",
        "os.makedirs(\"product_docs\", exist_ok=True)\n",
        "!mv delta_v.txt product_docs/ 2>/dev/null || echo \"✔️ Text already in place\"\n",
        "\n",
        "# Load\n",
        "loader = TextLoader(\"/content/product_docs/delta_v.txt\")\n",
        "docs = loader.load()\n",
        "\n",
        "# Split\n",
        "splitter = RecursiveCharacterTextSplitter(chunk_size=500, chunk_overlap=50)\n",
        "chunks = splitter.split_documents(docs)\n",
        "\n",
        "# Embedding\n",
        "embedder = HuggingFaceEmbeddings(model_name=\"all-MiniLM-L6-v2\")\n",
        "vector_db = Chroma.from_documents(chunks, embedding=embedder, persist_directory=\"vector_db\")\n",
        "\n",
        "print(\"✅ Vector DB created successfully.\")"
      ],
      "metadata": {
        "colab": {
          "base_uri": "https://localhost:8080/"
        },
        "id": "hpHiz31abazR",
        "outputId": "9537454b-144a-4b20-9c57-4f08567c59fe"
      },
      "execution_count": 2,
      "outputs": [
        {
          "output_type": "stream",
          "name": "stdout",
          "text": [
            "✔️ Text already in place\n"
          ]
        },
        {
          "output_type": "stream",
          "name": "stderr",
          "text": [
            "/usr/local/lib/python3.11/dist-packages/huggingface_hub/utils/_auth.py:94: UserWarning: \n",
            "The secret `HF_TOKEN` does not exist in your Colab secrets.\n",
            "To authenticate with the Hugging Face Hub, create a token in your settings tab (https://huggingface.co/settings/tokens), set it as secret in your Google Colab and restart your session.\n",
            "You will be able to reuse this secret in all of your notebooks.\n",
            "Please note that authentication is recommended but still optional to access public models or datasets.\n",
            "  warnings.warn(\n"
          ]
        },
        {
          "output_type": "stream",
          "name": "stdout",
          "text": [
            "✅ Vector DB created successfully.\n"
          ]
        }
      ]
    },
    {
      "cell_type": "code",
      "source": [
        "# Install system dependencies\n",
        "!sudo apt-get install -y poppler-utils tesseract-ocr\n",
        "\n",
        "# Install Python dependencies (add the missing one)\n",
        "!pip install -q \\\n",
        "  pi_heif \\\n",
        "  unstructured_inference \\\n",
        "  pdf2image \\\n",
        "  pytesseract \\\n",
        "  unstructured \\\n",
        "  unstructured-pytesseract\n"
      ],
      "metadata": {
        "colab": {
          "base_uri": "https://localhost:8080/"
        },
        "id": "iRmKNHAQhepw",
        "outputId": "b59ab8c1-d9cd-4fee-c57a-ebb0a11b34c3"
      },
      "execution_count": 3,
      "outputs": [
        {
          "output_type": "stream",
          "name": "stdout",
          "text": [
            "Reading package lists... Done\n",
            "Building dependency tree... Done\n",
            "Reading state information... Done\n",
            "tesseract-ocr is already the newest version (4.1.1-2.1build1).\n",
            "poppler-utils is already the newest version (22.02.0-2ubuntu0.8).\n",
            "0 upgraded, 0 newly installed, 0 to remove and 35 not upgraded.\n"
          ]
        }
      ]
    },
    {
      "cell_type": "code",
      "source": [
        "!sudo apt-get install poppler-utils tesseract-ocr -y"
      ],
      "metadata": {
        "colab": {
          "base_uri": "https://localhost:8080/"
        },
        "id": "B2qAEa0Lj_Ud",
        "outputId": "226b9c82-5399-4ddd-c559-7a3da5609e93"
      },
      "execution_count": 4,
      "outputs": [
        {
          "output_type": "stream",
          "name": "stdout",
          "text": [
            "Reading package lists... Done\n",
            "Building dependency tree... Done\n",
            "Reading state information... Done\n",
            "tesseract-ocr is already the newest version (4.1.1-2.1build1).\n",
            "poppler-utils is already the newest version (22.02.0-2ubuntu0.8).\n",
            "0 upgraded, 0 newly installed, 0 to remove and 35 not upgraded.\n"
          ]
        }
      ]
    },
    {
      "cell_type": "code",
      "source": [
        "from langchain_community.document_loaders import UnstructuredPDFLoader\n",
        "\n",
        "loader = UnstructuredPDFLoader(\"/content/sample_rfp.pdf\")\n",
        "rfp_docs = loader.load()\n",
        "rfp_text = \"\\n\".join([doc.page_content for doc in rfp_docs])\n",
        "\n",
        "print(\"✅ RFP Loaded:\", rfp_text[:500])"
      ],
      "metadata": {
        "colab": {
          "base_uri": "https://localhost:8080/"
        },
        "id": "BGOGovGAbxMX",
        "outputId": "c2584db4-ab01-4663-9096-8664cd256209"
      },
      "execution_count": 5,
      "outputs": [
        {
          "output_type": "stream",
          "name": "stdout",
          "text": [
            "✅ RFP Loaded: No. 31026/99/2020-Policy dated 25th January, 2021\n",
            "\n",
            "Selection of Public Financial Institution (Government Company) for providing services of Project Management Agency (PMA) for the implementation of Production Linked Incentive scheme for Pharmaceuticals\n",
            "\n",
            "Request for Proposal (RFP)\n",
            "\n",
            "Department of Pharmaceuticals Ministry of Chemicals & Fertilizers Shastri Bhawan, Dr Rajendra Prasad Road, New Delhi- 110001\n",
            "\n",
            "Page 1 of 12\n",
            "\n",
            "INDEX\n",
            "\n",
            "Table of Contents 1 3\n",
            "\n",
            "Request for Proposal from Public Financial Insti\n"
          ]
        }
      ]
    },
    {
      "cell_type": "code",
      "source": [
        "# Install Transformers and Accelerate\n",
        "!pip install -q transformers accelerate\n",
        "\n",
        "from transformers import pipeline\n",
        "\n",
        "# Load an open-access instruct model (no token required)\n",
        "llm = pipeline(\"text-generation\", model=\"tiiuae/falcon-7b-instruct\", device=0)\n",
        "\n",
        "# Prompt (modify rfp_text as needed)\n",
        "prompt = f\"\"\"\n",
        "You are an expert AI assistant specializing in analyzing Request for Proposal (RFP) documents\n",
        "for a large industrial automation company. Your task is to carefully read the following RFP text\n",
        "and extract all specific requirements.\n",
        "\n",
        "Return a valid JSON array of objects with:\n",
        "- \"id\": e.g. \"REQ-001\"\n",
        "- \"requirement_text\": exact text\n",
        "- \"category\": e.g. \"Technical Spec\", \"Safety\"\n",
        "- \"details\": brief summary\n",
        "\n",
        "Here is the RFP:\n",
        "---\n",
        "{rfp_text[:2000]}  # limit for safety\n",
        "---\n",
        "Return only valid JSON:\n",
        "\"\"\"\n",
        "\n",
        "# Generate the response\n",
        "response = llm(prompt, max_new_tokens=1024, do_sample=False)[0][\"generated_text\"]\n",
        "\n",
        "# Output\n",
        "print(\"✅ Extracted Requirements:\\n\")\n",
        "print(response)\n"
      ],
      "metadata": {
        "colab": {
          "base_uri": "https://localhost:8080/",
          "height": 49,
          "referenced_widgets": [
            "9ab2f5ce859e43dcb1eaa0659baac2ff",
            "d3a373a006ca435095cbcda53fbada2f",
            "56498188eb25472aa9b95156950b35b9",
            "a5aa3074f12f4a47be90236d8b6e9e87",
            "b52eeb5c0af84cf58dc1d1fae1a519a4",
            "d09d85c74a6b446aa834d4562d94604e",
            "d15a2defbd904bc799767fa87cd2ff63",
            "1a6b57208d5445f986cf0934aa9a3958",
            "c0da43cc06d04f7fbdf7b32858a167c3",
            "d8ebbd3de7b240c69543c2d3371b43ef",
            "2cf74310d8514fbc8147eff17fea5739"
          ]
        },
        "id": "d2UWchRWzFeq",
        "outputId": "cfcf1f48-c3a6-4c0c-ac7c-64e2a50bd51b"
      },
      "execution_count": null,
      "outputs": [
        {
          "output_type": "display_data",
          "data": {
            "text/plain": [
              "Loading checkpoint shards:   0%|          | 0/2 [00:00<?, ?it/s]"
            ],
            "application/vnd.jupyter.widget-view+json": {
              "version_major": 2,
              "version_minor": 0,
              "model_id": "9ab2f5ce859e43dcb1eaa0659baac2ff"
            }
          },
          "metadata": {}
        }
      ]
    },
    {
      "cell_type": "code",
      "source": [
        "import json\n",
        "\n",
        "# Step 1: Extract the JSON portion from the LLM response\n",
        "start_idx = response.find(\"[\")\n",
        "json_str = response[start_idx:].strip()\n",
        "\n",
        "# Step 2: Try parsing the response into Python list of requirement dicts\n",
        "try:\n",
        "    requirements = json.loads(json_str)\n",
        "    print(f\"✅ Parsed {len(requirements)} requirements\")\n",
        "except Exception as e:\n",
        "    print(\"❌ Failed to parse JSON:\", e)\n",
        "    print(\"💬 Raw response:\\n\", response)\n",
        "    requirements = []\n",
        "\n",
        "# Step 3: For each requirement, find the top-k relevant chunks from the vector DB\n",
        "for req in requirements:\n",
        "    print(f\"\\n📌 {req.get('id', 'REQ-???')}: {req.get('requirement_text', 'Missing text')}\")\n",
        "\n",
        "    try:\n",
        "        matches = vector_db.similarity_search(req[\"requirement_text\"], k=2)\n",
        "        for i, match in enumerate(matches, start=1):\n",
        "            print(f\"🔗 Match #{i}:\", match.page_content[:200], \"...\")\n",
        "    except Exception as e:\n",
        "        print(\"❌ Error during vector search:\", e)\n"
      ],
      "metadata": {
        "id": "__eEFvc64uMb"
      },
      "execution_count": null,
      "outputs": []
    }
  ]
}